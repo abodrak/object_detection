{
 "cells": [
  {
   "cell_type": "code",
   "execution_count": 84,
   "metadata": {},
   "outputs": [],
   "source": [
    "import os "
   ]
  },
  {
   "cell_type": "code",
   "execution_count": 85,
   "metadata": {},
   "outputs": [],
   "source": [
    "# for root, dirs, files in os.walk(\".\"):\n",
    "#     for filename in files:\n",
    "#         print(filename)"
   ]
  },
  {
   "cell_type": "code",
   "execution_count": 86,
   "metadata": {},
   "outputs": [
    {
     "ename": "FileNotFoundError",
     "evalue": "[Errno 2] No such file or directory: 'waste_100.xml.txt' -> 'waste_100.txt'",
     "output_type": "error",
     "traceback": [
      "\u001b[0;31m---------------------------------------------------------------------------\u001b[0m",
      "\u001b[0;31mFileNotFoundError\u001b[0m                         Traceback (most recent call last)",
      "\u001b[0;32m<ipython-input-86-d1a5a1406414>\u001b[0m in \u001b[0;36m<module>\u001b[0;34m\u001b[0m\n\u001b[1;32m      1\u001b[0m \u001b[0;31m# rename file python\u001b[0m\u001b[0;34m\u001b[0m\u001b[0;34m\u001b[0m\u001b[0;34m\u001b[0m\u001b[0m\n\u001b[1;32m      2\u001b[0m \u001b[0;34m\u001b[0m\u001b[0m\n\u001b[0;32m----> 3\u001b[0;31m \u001b[0mos\u001b[0m\u001b[0;34m.\u001b[0m\u001b[0mrename\u001b[0m\u001b[0;34m(\u001b[0m\u001b[0;34m'waste_100.xml.txt'\u001b[0m\u001b[0;34m,\u001b[0m\u001b[0;34m'waste_100.txt'\u001b[0m\u001b[0;34m)\u001b[0m\u001b[0;34m\u001b[0m\u001b[0;34m\u001b[0m\u001b[0m\n\u001b[0m",
      "\u001b[0;31mFileNotFoundError\u001b[0m: [Errno 2] No such file or directory: 'waste_100.xml.txt' -> 'waste_100.txt'"
     ]
    }
   ],
   "source": [
    "# rename file python \n",
    "\n",
    "os.rename('waste_100.xml.txt','waste_100.txt')"
   ]
  },
  {
   "cell_type": "code",
   "execution_count": null,
   "metadata": {},
   "outputs": [],
   "source": [
    "# # renaming the filename \n",
    "# for root, dirs, files in os.walk(\".\"):\n",
    "#     for filename in files:\n",
    "#         if 'xml' in filename:\n",
    "#             # print(filename)\n",
    "#             os.rename(filename,filename.replace('.xml',''))"
   ]
  },
  {
   "cell_type": "code",
   "execution_count": 200,
   "metadata": {},
   "outputs": [
    {
     "name": "stdout",
     "output_type": "stream",
     "text": [
      "3 0.547500 0.561111 0.381667 0.304444\n",
      "3 0.399167 0.524444 0.095000 0.062222\n",
      "3 0.577500 0.554444 0.258333 0.180000\n",
      "\n"
     ]
    }
   ],
   "source": [
    "# replace the first charector in each line \n",
    "modified_lines = []\n",
    "new_str = ''\n",
    "appended_str = ''\n",
    "with open('waste_14.xml.txt','r+') as fin:\n",
    "    lines = fin.readlines()\n",
    "    \n",
    "    \n",
    "    for line in lines:\n",
    "        line_list = list(line)\n",
    "        line_list[0] = '3'\n",
    "        modified_lines.append(line_list)\n",
    "        \n",
    "    \n",
    "    \n",
    "    for line in modified_lines:\n",
    "        appended_str += new_str.join(line)\n",
    "    \n",
    "    print(appended_str)\n",
    "    \n",
    "   \n",
    "        \n",
    "    \n",
    "        \n",
    "        \n",
    "    #print(modified_lines)\n",
    "    \n",
    "\n",
    "\n",
    "\n",
    "      \n",
    "        \n",
    "#     print(chars)\n",
    "#     fin.truncate(0)\n",
    "#     fin.write(str(chars))\n",
    "        \n",
    "    "
   ]
  },
  {
   "cell_type": "code",
   "execution_count": null,
   "metadata": {},
   "outputs": [],
   "source": [
    " for line in modified_lines:\n",
    "    appended_str +=  new_str.join(line)\n",
    "        "
   ]
  },
  {
   "cell_type": "code",
   "execution_count": null,
   "metadata": {},
   "outputs": [],
   "source": []
  }
 ],
 "metadata": {
  "kernelspec": {
   "display_name": "Python 3",
   "language": "python",
   "name": "python3"
  },
  "language_info": {
   "codemirror_mode": {
    "name": "ipython",
    "version": 3
   },
   "file_extension": ".py",
   "mimetype": "text/x-python",
   "name": "python",
   "nbconvert_exporter": "python",
   "pygments_lexer": "ipython3",
   "version": "3.8.6"
  },
  "toc": {
   "base_numbering": 1,
   "nav_menu": {},
   "number_sections": true,
   "sideBar": true,
   "skip_h1_title": false,
   "title_cell": "Table of Contents",
   "title_sidebar": "Contents",
   "toc_cell": false,
   "toc_position": {},
   "toc_section_display": true,
   "toc_window_display": false
  }
 },
 "nbformat": 4,
 "nbformat_minor": 4
}
