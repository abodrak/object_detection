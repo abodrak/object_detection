{
 "cells": [
  {
   "cell_type": "code",
   "execution_count": 84,
   "metadata": {},
   "outputs": [],
   "source": [
    "import os "
   ]
  },
  {
   "cell_type": "code",
   "execution_count": 85,
   "metadata": {},
   "outputs": [],
   "source": [
    "# for root, dirs, files in os.walk(\".\"):\n",
    "#     for filename in files:\n",
    "#         print(filename)"
   ]
  },
  {
   "cell_type": "code",
   "execution_count": 238,
   "metadata": {},
   "outputs": [],
   "source": [
    "# renaming the filename \n",
    "for root, dirs, files in os.walk(\".\"):\n",
    "    for filename in files:\n",
    "        if 'xml' in filename:\n",
    "            # print(filename)\n",
    "            os.rename(filename,filename.replace('.xml',''))"
   ]
  },
  {
   "cell_type": "code",
   "execution_count": 235,
   "metadata": {},
   "outputs": [],
   "source": [
    "# for root, dirs, files in os.walk(\".\"):\n",
    "#     for filename in files:\n",
    "        \n",
    "#         modified_lines = []\n",
    "#         new_str = ''\n",
    "#         appended_str = ''\n",
    "        \n",
    "        \n",
    "#         if 'txt' in filename :\n",
    "#             # os.rename(filename,filename.replace('.xml',''))\n",
    "#             with open(filename,'r+') as fin:\n",
    "#                 lines = fin.readlines()\n",
    "                \n",
    "#                 for line in lines:\n",
    "#                     line_list = list(line)\n",
    "#                     line_list[0] = '3'\n",
    "#                     modified_lines.append(line_list)\n",
    "                    \n",
    "                \n",
    "#                 fin.seek(0)\n",
    "#                 fin.truncate()\n",
    "                \n",
    "#                 for new_line in modified_lines:\n",
    "#                     appended_str += new_str.join(new_line)\n",
    "                \n",
    "#                 fin.write(appended_str)\n",
    "            "
   ]
  },
  {
   "cell_type": "code",
   "execution_count": 202,
   "metadata": {},
   "outputs": [
    {
     "name": "stdout",
     "output_type": "stream",
     "text": [
      "3 0.547500 0.561111 0.381667 0.304444\n",
      "3 0.399167 0.524444 0.095000 0.062222\n",
      "3 0.577500 0.554444 0.258333 0.180000\n",
      "\n"
     ]
    }
   ],
   "source": [
    "# # replace the first charector in each line \n",
    "# modified_lines = []\n",
    "# new_str = ''\n",
    "# appended_str = ''\n",
    "# with open('waste_14.xml.txt','r+') as fin:\n",
    "#     lines = fin.readlines()\n",
    "    \n",
    "#     for line in lines:\n",
    "#         line_list = list(line)\n",
    "#         line_list[0] = '3'\n",
    "#         modified_lines.append(line_list)\n",
    "    \n",
    "#     fin.seek(0)\n",
    "#     fin.truncate()\n",
    "    \n",
    "    \n",
    "#     for line in modified_lines:\n",
    "#         appended_str += new_str.join(line)\n",
    "    \n",
    "#     print(appended_str)\n",
    "    \n",
    "    \n",
    "#     fin.write(appended_str)\n",
    "\n",
    "    "
   ]
  },
  {
   "cell_type": "code",
   "execution_count": null,
   "metadata": {},
   "outputs": [],
   "source": [
    "#  for line in modified_lines:\n",
    "#     appended_str +=  new_str.join(line)\n",
    "        "
   ]
  },
  {
   "cell_type": "code",
   "execution_count": null,
   "metadata": {},
   "outputs": [],
   "source": []
  }
 ],
 "metadata": {
  "kernelspec": {
   "display_name": "Python 3",
   "language": "python",
   "name": "python3"
  },
  "language_info": {
   "codemirror_mode": {
    "name": "ipython",
    "version": 3
   },
   "file_extension": ".py",
   "mimetype": "text/x-python",
   "name": "python",
   "nbconvert_exporter": "python",
   "pygments_lexer": "ipython3",
   "version": "3.8.6"
  },
  "toc": {
   "base_numbering": 1,
   "nav_menu": {},
   "number_sections": true,
   "sideBar": true,
   "skip_h1_title": false,
   "title_cell": "Table of Contents",
   "title_sidebar": "Contents",
   "toc_cell": false,
   "toc_position": {},
   "toc_section_display": true,
   "toc_window_display": false
  }
 },
 "nbformat": 4,
 "nbformat_minor": 4
}
